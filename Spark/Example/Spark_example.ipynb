{
 "cells": [
  {
   "cell_type": "code",
   "execution_count": 1,
   "id": "5a1711a8",
   "metadata": {},
   "outputs": [],
   "source": [
    "from pyspark.sql.functions import col, udf\n",
    "from pyspark.sql.types import StringType\n",
    "from pyspark.sql import SparkSession\n",
    "import pyspark\n",
    "import quinn\n",
    "\n",
    "sc = pyspark.SparkContext('local[*]')\n",
    "rdd = sc.parallelize(range(100))"
   ]
  },
  {
   "cell_type": "code",
   "execution_count": 2,
   "id": "31ae9a28",
   "metadata": {},
   "outputs": [
    {
     "data": {
      "text/plain": [
       "[61, 42, 95, 90, 65, 5, 12, 2, 70, 19, 84, 38, 22]"
      ]
     },
     "execution_count": 2,
     "metadata": {},
     "output_type": "execute_result"
    }
   ],
   "source": [
    "rdd.takeSample(False, 13)"
   ]
  },
  {
   "cell_type": "code",
   "execution_count": 3,
   "id": "92e891cc",
   "metadata": {},
   "outputs": [
    {
     "name": "stdout",
     "output_type": "stream",
     "text": [
      "+-------------+----------+------+\n",
      "|      Company|      Name|Salary|\n",
      "+-------------+----------+------+\n",
      "|Grid Dynamics|Anastasiya|  2000|\n",
      "|     Haulmont|      Gleb|  1200|\n",
      "|     Mirantis|     Roman|  1500|\n",
      "|      OpenDev|      Oleg|  1300|\n",
      "|      Mercury|     Artem|   500|\n",
      "|         EPAM|     Alina|  2000|\n",
      "|Grid Dynamics|     Arina|  1800|\n",
      "|     Exactpro|     Sveta|  1000|\n",
      "|      Neoflex|      Rita|  1000|\n",
      "+-------------+----------+------+\n",
      "\n"
     ]
    }
   ],
   "source": [
    "rdd = sc.parallelize([\n",
    "    {'Name': 'Anastasiya', 'Salary': 2000, 'Company': 'Grid Dynamics'},\n",
    "    {'Name': 'Gleb', 'Salary': 1200, 'Company': 'Haulmont'},\n",
    "    {'Name': 'Roman', 'Salary': 1500, 'Company': 'Mirantis'},\n",
    "    {'Name': 'Oleg', 'Salary': 1300, 'Company': 'OpenDev'},\n",
    "    {'Name': 'Artem', 'Salary': 500, 'Company': 'Mercury'},\n",
    "    {'Name': 'Alina', 'Salary': 2000, 'Company': 'EPAM'},\n",
    "    {'Name': 'Arina', 'Salary': 1800, 'Company': 'Grid Dynamics'},\n",
    "    {'Name': 'Sveta', 'Salary': 1000, 'Company': 'Exactpro'},\n",
    "    {'Name': 'Rita', 'Salary': 1000, 'Company': 'Neoflex'}\n",
    "])\n",
    "\n",
    "spark = SparkSession.builder.getOrCreate()\n",
    "Salary_information = spark.createDataFrame(rdd)\n",
    "Salary_information.show()"
   ]
  },
  {
   "cell_type": "code",
   "execution_count": 4,
   "id": "d95490be",
   "metadata": {},
   "outputs": [
    {
     "name": "stdout",
     "output_type": "stream",
     "text": [
      "+-------------+\n",
      "|      Company|\n",
      "+-------------+\n",
      "|Grid Dynamics|\n",
      "|     Haulmont|\n",
      "|     Mirantis|\n",
      "|      OpenDev|\n",
      "|      Mercury|\n",
      "|         EPAM|\n",
      "|Grid Dynamics|\n",
      "|     Exactpro|\n",
      "|      Neoflex|\n",
      "+-------------+\n",
      "\n"
     ]
    }
   ],
   "source": [
    "Salary_information.select('Company').show()"
   ]
  },
  {
   "cell_type": "code",
   "execution_count": 5,
   "id": "0be6712a",
   "metadata": {},
   "outputs": [
    {
     "name": "stdout",
     "output_type": "stream",
     "text": [
      "+-------------+----------+------+\n",
      "|      Company|      Name|Salary|\n",
      "+-------------+----------+------+\n",
      "|Grid Dynamics|Anastasiya|  2000|\n",
      "|         EPAM|     Alina|  2000|\n",
      "+-------------+----------+------+\n",
      "\n"
     ]
    }
   ],
   "source": [
    "Salary_information.filter(col('Salary') == '2000').show()"
   ]
  },
  {
   "cell_type": "code",
   "execution_count": 6,
   "id": "dd439466",
   "metadata": {},
   "outputs": [
    {
     "name": "stdout",
     "output_type": "stream",
     "text": [
      "+--------+\n",
      "| Company|\n",
      "+--------+\n",
      "|Haulmont|\n",
      "| OpenDev|\n",
      "+--------+\n",
      "\n"
     ]
    }
   ],
   "source": [
    "Salary_information.filter(\"Name == 'Oleg' or Name = 'Gleb'\").select('Company').show()"
   ]
  },
  {
   "cell_type": "code",
   "execution_count": 7,
   "id": "6e36da83",
   "metadata": {},
   "outputs": [
    {
     "name": "stdout",
     "output_type": "stream",
     "text": [
      "+-------------+-----+\n",
      "|      Company|count|\n",
      "+-------------+-----+\n",
      "|Grid Dynamics|    2|\n",
      "|     Haulmont|    1|\n",
      "|     Mirantis|    1|\n",
      "|      OpenDev|    1|\n",
      "|      Mercury|    1|\n",
      "|         EPAM|    1|\n",
      "|     Exactpro|    1|\n",
      "|      Neoflex|    1|\n",
      "+-------------+-----+\n",
      "\n"
     ]
    }
   ],
   "source": [
    "Salary_information.groupby('Company').count().show()"
   ]
  },
  {
   "cell_type": "code",
   "execution_count": 8,
   "id": "eafb195f",
   "metadata": {},
   "outputs": [
    {
     "name": "stdout",
     "output_type": "stream",
     "text": [
      "root\n",
      " |-- time: string (nullable = true)\n",
      " |-- number_of_purchases: string (nullable = true)\n",
      " |-- location_and_number_of_visits: string (nullable = true)\n",
      "\n"
     ]
    }
   ],
   "source": [
    "Purchase = spark.read.option('header', 'true').csv('result.csv')\n",
    "Purchase.printSchema()"
   ]
  },
  {
   "cell_type": "code",
   "execution_count": 9,
   "id": "125d9011",
   "metadata": {},
   "outputs": [
    {
     "name": "stdout",
     "output_type": "stream",
     "text": [
      "+-----+-------------------+-----------------------------------------------+\n",
      "|time |number_of_purchases|location_and_number_of_visits                  |\n",
      "+-----+-------------------+-----------------------------------------------+\n",
      "|09:00|4                  |{'Australia':5,'United States':6,'Macedonia':2}|\n",
      "|10:00|2                  |{'United States':11,'Peru':1,'Belgium':3}      |\n",
      "|11:00|4                  |{'China':4,'Turkey':10,'Thailand':3}           |\n",
      "|12:00|3                  |{'Japan':11,'China':2,'Sweden':1}              |\n",
      "|13:00|7                  |{'Macedonia':9,'United States':5,'Belgium':5]  |\n",
      "|14:00|6                  |{'Albania':8,'Japan':3,'United States':12}     |\n",
      "|15:00|7                  |{'China':9,'Hungary':2,'Belarus':11}           |\n",
      "|16:00|7                  |{'Bolivia':10,'Japan':3,'United States':12}    |\n",
      "+-----+-------------------+-----------------------------------------------+\n",
      "\n"
     ]
    }
   ],
   "source": [
    "Purchase.show(truncate=False)"
   ]
  },
  {
   "cell_type": "code",
   "execution_count": 10,
   "id": "8b25e576",
   "metadata": {},
   "outputs": [
    {
     "name": "stdout",
     "output_type": "stream",
     "text": [
      "+-------------------+-----+\n",
      "|number_of_purchases|count|\n",
      "+-------------------+-----+\n",
      "|                  7|    3|\n",
      "|                  3|    1|\n",
      "|                  6|    1|\n",
      "|                  4|    2|\n",
      "|                  2|    1|\n",
      "+-------------------+-----+\n",
      "\n"
     ]
    }
   ],
   "source": [
    "Purchase.groupBy('number_of_purchases').count().show()"
   ]
  },
  {
   "cell_type": "code",
   "execution_count": 11,
   "id": "95c27f5c",
   "metadata": {},
   "outputs": [
    {
     "data": {
      "text/html": [
       "<div>\n",
       "<style scoped>\n",
       "    .dataframe tbody tr th:only-of-type {\n",
       "        vertical-align: middle;\n",
       "    }\n",
       "\n",
       "    .dataframe tbody tr th {\n",
       "        vertical-align: top;\n",
       "    }\n",
       "\n",
       "    .dataframe thead th {\n",
       "        text-align: right;\n",
       "    }\n",
       "</style>\n",
       "<table border=\"1\" class=\"dataframe\">\n",
       "  <thead>\n",
       "    <tr style=\"text-align: right;\">\n",
       "      <th></th>\n",
       "      <th>Time</th>\n",
       "      <th>Number of purchases</th>\n",
       "      <th>Location and number of visits</th>\n",
       "      <th>Moscow time</th>\n",
       "    </tr>\n",
       "  </thead>\n",
       "  <tbody>\n",
       "    <tr>\n",
       "      <th>0</th>\n",
       "      <td>09:00</td>\n",
       "      <td>4</td>\n",
       "      <td>{'Australia':5,'United States':6,'Macedonia':2}</td>\n",
       "      <td>8:00</td>\n",
       "    </tr>\n",
       "    <tr>\n",
       "      <th>1</th>\n",
       "      <td>10:00</td>\n",
       "      <td>2</td>\n",
       "      <td>{'United States':11,'Peru':1,'Belgium':3}</td>\n",
       "      <td>9:00</td>\n",
       "    </tr>\n",
       "    <tr>\n",
       "      <th>2</th>\n",
       "      <td>11:00</td>\n",
       "      <td>4</td>\n",
       "      <td>{'China':4,'Turkey':10,'Thailand':3}</td>\n",
       "      <td>10:00</td>\n",
       "    </tr>\n",
       "    <tr>\n",
       "      <th>3</th>\n",
       "      <td>12:00</td>\n",
       "      <td>3</td>\n",
       "      <td>{'Japan':11,'China':2,'Sweden':1}</td>\n",
       "      <td>11:00</td>\n",
       "    </tr>\n",
       "    <tr>\n",
       "      <th>4</th>\n",
       "      <td>13:00</td>\n",
       "      <td>7</td>\n",
       "      <td>{'Macedonia':9,'United States':5,'Belgium':5]</td>\n",
       "      <td>12:00</td>\n",
       "    </tr>\n",
       "    <tr>\n",
       "      <th>5</th>\n",
       "      <td>14:00</td>\n",
       "      <td>6</td>\n",
       "      <td>{'Albania':8,'Japan':3,'United States':12}</td>\n",
       "      <td>13:00</td>\n",
       "    </tr>\n",
       "    <tr>\n",
       "      <th>6</th>\n",
       "      <td>15:00</td>\n",
       "      <td>7</td>\n",
       "      <td>{'China':9,'Hungary':2,'Belarus':11}</td>\n",
       "      <td>14:00</td>\n",
       "    </tr>\n",
       "    <tr>\n",
       "      <th>7</th>\n",
       "      <td>16:00</td>\n",
       "      <td>7</td>\n",
       "      <td>{'Bolivia':10,'Japan':3,'United States':12}</td>\n",
       "      <td>15:00</td>\n",
       "    </tr>\n",
       "  </tbody>\n",
       "</table>\n",
       "</div>"
      ],
      "text/plain": [
       "    Time Number of purchases                    Location and number of visits  \\\n",
       "0  09:00                   4  {'Australia':5,'United States':6,'Macedonia':2}   \n",
       "1  10:00                   2        {'United States':11,'Peru':1,'Belgium':3}   \n",
       "2  11:00                   4             {'China':4,'Turkey':10,'Thailand':3}   \n",
       "3  12:00                   3                {'Japan':11,'China':2,'Sweden':1}   \n",
       "4  13:00                   7    {'Macedonia':9,'United States':5,'Belgium':5]   \n",
       "5  14:00                   6       {'Albania':8,'Japan':3,'United States':12}   \n",
       "6  15:00                   7             {'China':9,'Hungary':2,'Belarus':11}   \n",
       "7  16:00                   7      {'Bolivia':10,'Japan':3,'United States':12}   \n",
       "\n",
       "  Moscow time  \n",
       "0        8:00  \n",
       "1        9:00  \n",
       "2       10:00  \n",
       "3       11:00  \n",
       "4       12:00  \n",
       "5       13:00  \n",
       "6       14:00  \n",
       "7       15:00  "
      ]
     },
     "execution_count": 11,
     "metadata": {},
     "output_type": "execute_result"
    }
   ],
   "source": [
    "@udf(returnType=StringType())\n",
    "def swithing_to_Moscow_time(value: str):\n",
    "    value = int(value[:2]) - 1\n",
    "    return str(value) + ':00'\n",
    "\n",
    "def rename_columns(name_col):\n",
    "    name_col = name_col.replace(\"_\", \" \")\n",
    "    return name_col.capitalize()\n",
    "\n",
    "Purchase = quinn.with_columns_renamed(rename_columns)(Purchase)\n",
    "Purchase = Purchase.withColumn('Moscow time', swithing_to_Moscow_time(col('time')))\n",
    "\n",
    "Purchase = Purchase.toPandas()\n",
    "Purchase"
   ]
  }
 ],
 "metadata": {
  "kernelspec": {
   "display_name": "Python [conda env:py310]",
   "language": "python",
   "name": "conda-env-py310-py"
  },
  "language_info": {
   "codemirror_mode": {
    "name": "ipython",
    "version": 3
   },
   "file_extension": ".py",
   "mimetype": "text/x-python",
   "name": "python",
   "nbconvert_exporter": "python",
   "pygments_lexer": "ipython3",
   "version": "3.10.0"
  }
 },
 "nbformat": 4,
 "nbformat_minor": 5
}

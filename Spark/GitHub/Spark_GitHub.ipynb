{
 "cells": [
  {
   "cell_type": "code",
   "execution_count": 1,
   "id": "b9924ea8",
   "metadata": {},
   "outputs": [],
   "source": [
    "from pyspark.sql import SparkSession\n",
    "import requests\n",
    "import pyspark\n",
    "import json"
   ]
  },
  {
   "cell_type": "code",
   "execution_count": 2,
   "id": "a59febe6",
   "metadata": {},
   "outputs": [],
   "source": [
    "token = ' '\n",
    "headers = {'Accept':'application/vnd.github+json', 'authorization': f'Bearer {token}'}\n",
    "max_id = 0"
   ]
  },
  {
   "cell_type": "code",
   "execution_count": 3,
   "id": "7a459a07",
   "metadata": {},
   "outputs": [],
   "source": [
    "sc = pyspark.SparkContext('local[*]')\n",
    "spark = SparkSession.builder.getOrCreate()"
   ]
  },
  {
   "cell_type": "code",
   "execution_count": 4,
   "id": "0ce35561",
   "metadata": {},
   "outputs": [],
   "source": [
    "def get_organizations():\n",
    "        list_of_organizations = []\n",
    "        url = 'https://api.github.com/organizations?per_page=100'\n",
    "        for i in range(2):\n",
    "            global max_id\n",
    "            parameter = {'since':max_id}\n",
    "            response = requests.get(url, params = parameter, headers = headers)\n",
    "            organizations_rdd = sc.parallelize(response.json())\n",
    "            list_of_organizations.extend([organization['login'] for organization in organizations_rdd.collect()])\n",
    "            max_id= max([organization['id'] for organization in organizations_rdd.collect() ])+1\n",
    "        return list_of_organizations"
   ]
  },
  {
   "cell_type": "code",
   "execution_count": 5,
   "id": "cfb39c10",
   "metadata": {},
   "outputs": [],
   "source": [
    "organizations = get_organizations()"
   ]
  },
  {
   "cell_type": "code",
   "execution_count": 6,
   "id": "791b87d7",
   "metadata": {},
   "outputs": [],
   "source": [
    "def get_repositories(organizations):\n",
    "        list_of_repositories =[]\n",
    "        for organization in organizations:\n",
    "            link = 'https://api.github.com/orgs/'+ organization +'/repos'\n",
    "            link_to_the_repositories = requests.get(link, headers = headers)\n",
    "            repositories_rdd = sc.parallelize(link_to_the_repositories.json())\n",
    "            list_of_repositories.extend([[repository['owner']['login'], repository['name'], repository['stargazers_count']] for repository in repositories_rdd.collect()])\n",
    "        return list_of_repositories"
   ]
  },
  {
   "cell_type": "code",
   "execution_count": 7,
   "id": "15caa781",
   "metadata": {},
   "outputs": [],
   "source": [
    "repositories = get_repositories(organizations)"
   ]
  },
  {
   "cell_type": "code",
   "execution_count": 8,
   "id": "f8bf16a3",
   "metadata": {},
   "outputs": [
    {
     "name": "stdout",
     "output_type": "stream",
     "text": [
      "root\n",
      " |-- Organization: string (nullable = true)\n",
      " |-- Repository: string (nullable = true)\n",
      " |-- Stars: long (nullable = true)\n",
      "\n"
     ]
    }
   ],
   "source": [
    "Org_and_repos_df = spark.createDataFrame(repositories)\n",
    "Org_and_repos_df = Org_and_repos_df.withColumnRenamed(\"_1\", \"Organization\").withColumnRenamed('_2', 'Repository').withColumnRenamed('_2', 'Repository').withColumnRenamed('_3', 'Stars')\n",
    "Org_and_repos_df.printSchema()"
   ]
  },
  {
   "cell_type": "code",
   "execution_count": 9,
   "id": "e856fe53",
   "metadata": {},
   "outputs": [
    {
     "name": "stdout",
     "output_type": "stream",
     "text": [
      "+------------+------------------+-----+\n",
      "|Organization|        Repository|Stars|\n",
      "+------------+------------------+-----+\n",
      "|     errfree|             test1|    2|\n",
      "|     errfree|              test|    1|\n",
      "|  engineyard|             eycap|  116|\n",
      "|  engineyard|           mongrel|   44|\n",
      "|  engineyard|      vertebra-erl|   34|\n",
      "|  engineyard|       vertebra-rb|   59|\n",
      "|  engineyard|           xmpp4em|   13|\n",
      "|  engineyard|      vertebra-gem|   45|\n",
      "|  engineyard|      vertebra-xen|   47|\n",
      "|  engineyard|puppet-daemontools|    6|\n",
      "|  engineyard|          vertebra|  161|\n",
      "|  engineyard|            sequel|    2|\n",
      "|  engineyard|            natter|   76|\n",
      "|  engineyard|      vertebra-ref|   43|\n",
      "|  engineyard|   rails-2.2.2-app|   10|\n",
      "|  engineyard|         loudmouth|   20|\n",
      "|  engineyard|    loudmouth-ruby|    9|\n",
      "|  engineyard|          rack-app|    7|\n",
      "|  engineyard|  ey-cloud-recipes| 1000|\n",
      "|  engineyard|    oauth_provider|    3|\n",
      "+------------+------------------+-----+\n",
      "only showing top 20 rows\n",
      "\n"
     ]
    }
   ],
   "source": [
    "Org_and_repos_df.show()"
   ]
  },
  {
   "cell_type": "code",
   "execution_count": 10,
   "id": "27fb90b7",
   "metadata": {},
   "outputs": [
    {
     "name": "stdout",
     "output_type": "stream",
     "text": [
      "+--------------+-------------+------+\n",
      "|  Organization|   Repository| Stars|\n",
      "+--------------+-------------+------+\n",
      "|        github|    gitignore|130653|\n",
      "|         rails|        rails| 50335|\n",
      "|        github|          hub| 21609|\n",
      "|       sinatra|      sinatra| 11558|\n",
      "|       Shopify|      dashing| 11077|\n",
      "|        github|     linguist|  9622|\n",
      "|       Shopify|       liquid|  9392|\n",
      "|    thoughtbot|    paperclip|  9066|\n",
      "|    thoughtbot|  factory_bot|  7422|\n",
      "|        github|       markup|  5383|\n",
      "|        WebKit|  WebKit-http|  5074|\n",
      "|         rails|         thor|  4829|\n",
      "|        github|         dmca|  4751|\n",
      "|collectiveidea|  delayed_job|  4697|\n",
      "|    thoughtbot|   suspenders|  3769|\n",
      "|   pluginaweek|state_machine|  3715|\n",
      "|    thoughtbot|    clearance|  3486|\n",
      "|      basecamp|          pow|  3442|\n",
      "|        joyent|        libuv|  3291|\n",
      "|    thoughtbot| high_voltage|  3094|\n",
      "+--------------+-------------+------+\n",
      "only showing top 20 rows\n",
      "\n"
     ]
    }
   ],
   "source": [
    "Top_repositories = Org_and_repos_df.sort(\"Stars\", ascending=False)\n",
    "Top_repositories.show()"
   ]
  },
  {
   "cell_type": "code",
   "execution_count": 11,
   "id": "8d39abe9",
   "metadata": {},
   "outputs": [],
   "source": [
    "Top_repositories = Top_repositories.toPandas()\n",
    "Top_20_repositories = Top_repositories[:20]"
   ]
  },
  {
   "cell_type": "code",
   "execution_count": 12,
   "id": "478c7254",
   "metadata": {},
   "outputs": [],
   "source": [
    "Top_20_repositories.to_csv('Top 20 repositories by number of stars.csv', index=False)"
   ]
  }
 ],
 "metadata": {
  "kernelspec": {
   "display_name": "Python [conda env:py310]",
   "language": "python",
   "name": "conda-env-py310-py"
  },
  "language_info": {
   "codemirror_mode": {
    "name": "ipython",
    "version": 3
   },
   "file_extension": ".py",
   "mimetype": "text/x-python",
   "name": "python",
   "nbconvert_exporter": "python",
   "pygments_lexer": "ipython3",
   "version": "3.10.0"
  }
 },
 "nbformat": 4,
 "nbformat_minor": 5
}
